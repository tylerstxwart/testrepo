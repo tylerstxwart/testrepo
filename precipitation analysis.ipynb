{
    "cells": [
        {
            "cell_type": "markdown",
            "metadata": {},
            "source": "#Description\nthis notebook analyses and visualises precipitaion data"
        },
        {
            "cell_type": "code",
            "execution_count": 2,
            "metadata": {},
            "outputs": [
                {
                    "name": "stdout",
                    "output_type": "stream",
                    "text": "+---------------+----+-------+---------------+--------------------+             \n|Country or Area|Year|  Value|Value Footnotes|                Unit|\n+---------------+----+-------+---------------+--------------------+\n|        Albania|2007|30964.0|           null|million cubic metres|\n|        Albania|2006|32380.0|           null|million cubic metres|\n|        Albania|2005|42840.0|           null|million cubic metres|\n|        Albania|2004|42787.0|           null|million cubic metres|\n|        Albania|2003|27893.0|           null|million cubic metres|\n+---------------+----+-------+---------------+--------------------+\nonly showing top 5 rows\n\n"
                },
                {
                    "data": {
                        "text/plain": "configurationName = os_6cca30e6932f43678ae555da1a93aafc_configs\ncos = com.ibm.ibmos2spark.CloudObjectStorage@e1303b3c\nspark = org.apache.spark.sql.SparkSession@fec04e80\ndfData1 = [Country or Area: string, Year: int ... 3 more fields]\n"
                    },
                    "metadata": {},
                    "output_type": "display_data"
                },
                {
                    "data": {
                        "text/plain": "getCredentials: ()scala.collection.mutable.HashMap[String,String]\n"
                    },
                    "metadata": {},
                    "output_type": "display_data"
                },
                {
                    "data": {
                        "text/plain": "[Country or Area: string, Year: int ... 3 more fields]"
                    },
                    "execution_count": 2,
                    "metadata": {},
                    "output_type": "execute_result"
                }
            ],
            "source": "// The code was removed by Watson Studio for sharing."
        },
        {
            "cell_type": "code",
            "execution_count": null,
            "metadata": {},
            "outputs": [],
            "source": ""
        }
    ],
    "metadata": {
        "kernelspec": {
            "display_name": "Scala 2.12 with Spark",
            "language": "scala",
            "name": "scala"
        },
        "language_info": {
            "codemirror_mode": "text/x-scala",
            "file_extension": ".scala",
            "mimetype": "text/x-scala",
            "name": "scala",
            "pygments_lexer": "scala",
            "version": "2.12.15"
        }
    },
    "nbformat": 4,
    "nbformat_minor": 1
}